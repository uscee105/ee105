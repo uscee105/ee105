{
 "cells": [
  {
   "cell_type": "markdown",
   "id": "361a06b4-699f-4b16-9d97-dadee2b68b78",
   "metadata": {},
   "source": [
    "# Let's Start with a Simple Circuit\n",
    "\n",
    "# Example 1: \n",
    "Consider a basic series circuit with a voltage source and two resistors in series:\n",
    "\n",
    "Voltage source: 𝑉=5𝑉\n",
    "\n",
    "Resistors: 𝑅1=100Ω , 𝑅2=200Ω\n",
    "\n",
    "Goal:\n",
    "Calculate the current (𝐼) and the voltage drop across each resistor (𝑉1 and 𝑉2)\n",
    "\n",
    "We need to define a list of equations to solve and specify the variables to solve for."
   ]
  },
  {
   "cell_type": "code",
   "execution_count": 87,
   "id": "234bb277-a843-4f31-86d8-666320f3c70f",
   "metadata": {},
   "outputs": [
    {
     "name": "stdout",
     "output_type": "stream",
     "text": [
      "Solution:\n",
      "I = 0.0167\n",
      "V1 = 1.6667\n",
      "V2 = 3.3333\n"
     ]
    }
   ],
   "source": [
    "from sympy import symbols, Eq, solve\n",
    "\n",
    "# Define known and unknown variables\n",
    "V = 5  # Voltage source\n",
    "R1 = 100  # Resistor 1\n",
    "R2 = 200  # Resistor 2\n",
    "I, V1, V2 = symbols('I V1 V2')\n",
    "\n",
    "# Define equations\n",
    "eq1 = Eq(V, V1 + V2)  # Voltage source equals the sum of voltage drops\n",
    "eq2 = Eq(V1, I * R1)  # Ohm's law for R1\n",
    "eq3 = Eq(V2, I * R2)  # Ohm's law for R2\n",
    "\n",
    "# Solve the system of equations\n",
    "solution = solve([eq1, eq2, eq3], (I, V1, V2))\n",
    "\n",
    "# Display results\n",
    "print(\"Solution:\")\n",
    "for var, value in solution.items():\n",
    "    print(f\"{var} = {value:.4f}\")"
   ]
  },
  {
   "cell_type": "code",
   "execution_count": null,
   "id": "b616a9a6-d2a2-4441-b236-749de93899e5",
   "metadata": {},
   "outputs": [],
   "source": [
    "import sympy as sp"
   ]
  },
  {
   "cell_type": "code",
   "execution_count": null,
   "id": "f9099e5c-c972-48d9-889c-1b7097289359",
   "metadata": {},
   "outputs": [],
   "source": [
    "pip install sympy"
   ]
  },
  {
   "cell_type": "markdown",
   "id": "1093df62-4be7-4f09-85d7-d824e818e20c",
   "metadata": {},
   "source": [
    "# For Students to solve:\n",
    "# Example 2: \n",
    "Consider a basic series circuit with a voltage source and three resistors in series:\n",
    "\n",
    "Voltage source: 𝑉=12𝑉\n",
    "\n",
    "Resistors: 𝑅1=150Ω , 𝑅2=300Ω, 𝑅2=450Ω\n",
    "\n",
    "Goal:\n",
    "Calculate the total current (𝐼), and the voltage drop across each resistor (𝑉1 and 𝑉2 and 𝑉3)\n"
   ]
  },
  {
   "cell_type": "code",
   "execution_count": 34,
   "id": "fcdf7c65-84b8-4c24-b777-28bf3c335993",
   "metadata": {},
   "outputs": [],
   "source": [
    "from sympy import symbols, Eq, solve\n",
    "\n",
    "# Define known values\n",
    "\n",
    "\n",
    "# Define unknown variables\n",
    "\n",
    "\n",
    "# Define equations\n",
    "\n",
    "\n",
    "# Solve the system of equations\n",
    "\n",
    "\n",
    "# Display results\n",
    "\n"
   ]
  },
  {
   "cell_type": "markdown",
   "id": "7ccfa746-d2b7-4221-a9ea-fab18b9d8c99",
   "metadata": {},
   "source": [
    "# Example 3: \n",
    "Consider a basic series circuit with a voltage source and two resistors in parallel:\n",
    "\n",
    "Voltage source: 𝑉=12𝑉\n",
    "\n",
    "Resistors: 𝑅1=150Ω , 𝑅2=300Ω\n",
    "\n",
    "Goal:\n",
    "Calculate the total current (𝐼), and the current through each resistor (I1 and I2), and the total equivalent resistor Req.\n"
   ]
  },
  {
   "cell_type": "code",
   "execution_count": 99,
   "id": "a1678df9-5842-4e47-997b-f12c19cee09e",
   "metadata": {},
   "outputs": [
    {
     "name": "stdout",
     "output_type": "stream",
     "text": [
      "Solution:\n",
      "I1 = 0.080\n",
      "I2 = 0.040\n",
      "It = 0.120\n",
      "Req = 100.000\n"
     ]
    }
   ],
   "source": [
    "from sympy import symbols, Eq, solve\n",
    "\n",
    "# Define known values\n",
    "V = 12  # Voltage source (V)\n",
    "R1 = 150  # Resistor 1 (Ω)\n",
    "R2 = 300  # Resistor 2 (Ω)\n",
    "\n",
    "# Define unknown variables\n",
    "I1, I2, It, Req = symbols('I1 I2 It Req')\n",
    "\n",
    "# Step 1: Calculate equivalent resistance for parallel resistors\n",
    "eq_Req = Eq(Req, 1/(1/R1 + 1/R2))\n",
    "Req_value = solve(eq_Req, Req)[0]  # Solve for Req\n",
    "\n",
    "\n",
    "# Step 2: Find total current using Ohm's law (It = V / Req)\n",
    "eq_It = Eq(It, V / Req_value)\n",
    "\n",
    "# Step 3: Find currents through each resistor using Ohm's Law\n",
    "eq_I1 = Eq(I1, V / R1)  # Current through R1\n",
    "eq_I2 = Eq(I2, V / R2)  # Current through R2\n",
    "\n",
    "\n",
    "solution = solve([eq_Req, eq_It, eq_I1, eq_I2], (Req, It, I1, I2))\n",
    "\n",
    "# Display results\n",
    "print(\"Solution:\")\n",
    "for var, value in solution.items():\n",
    "    print(f\"{var} = {value:.3f}\")"
   ]
  },
  {
   "cell_type": "markdown",
   "id": "ec660d5b-0d5d-4ced-a99f-d1704b3fa7a4",
   "metadata": {},
   "source": [
    "#### Example 4: \n",
    "Consider a  parallel circuit with a voltage source connected to resistors in parallel:\n",
    "\n",
    "Voltage source: 𝑉=12𝑉\n",
    "\n",
    "Resistors: \n",
    "Branch1 :𝑅1=100Ω \n",
    "\n",
    "Branch2: 𝑅2=200Ω, 𝑅3=300Ω\n",
    "\n",
    "Branch3: 𝑅4=400Ω\n",
    "\n",
    "Goal:\n",
    "Calculate the total current (𝐼), and the current through each branch (I1 and I2, I3 ), and the total equivalent resistor Req.\n"
   ]
  },
  {
   "cell_type": "code",
   "execution_count": 32,
   "id": "98c5437e-4df2-49a4-837a-17952c942ec2",
   "metadata": {},
   "outputs": [],
   "source": [
    "from sympy import symbols, Eq, solve\n",
    "\n",
    "# Define known values\n",
    "\n",
    "\n",
    "# Define unknown variables\n",
    "\n",
    "\n",
    "# Step 1: Find equivalent resistance of R2 and R3 in series\n",
    "\n",
    "\n",
    "# Step 2: Find total equivalent resistance of the parallel network\n",
    "\n",
    "\n",
    "# Step 3: Find total current using Ohm's Law (It = V / Req)\n",
    "\n",
    "\n",
    "# Step 4: Find currents in each branch\n",
    "\n"
   ]
  },
  {
   "cell_type": "markdown",
   "id": "8e067056-9bef-4b54-9318-c8724a5e7fc9",
   "metadata": {},
   "source": [
    "# Example 5: \n",
    "Consider a circuit where R2 and R3 are in parallel and they are in series with R1.\n",
    "\n",
    "Voltage source: 𝑉=10𝑉\n",
    "\n",
    "Resistors: 𝑅1=100Ω , 𝑅2=200Ω, 𝑅3=300Ω\n",
    "\n",
    "Goal:\n",
    "Calculate the total current (𝐼𝑡), the Current through each resistor (𝐼1, 𝐼2, 𝐼3) and total resistance value."
   ]
  },
  {
   "cell_type": "code",
   "execution_count": 103,
   "id": "ebc3f3fa-0740-4adf-b249-8455e894368d",
   "metadata": {},
   "outputs": [
    {
     "name": "stdout",
     "output_type": "stream",
     "text": [
      "Solution:\n",
      "I2 = 0.027\n",
      "I3 = 0.018\n",
      "It = 0.045\n",
      "R23 = 120.000\n",
      "Req = 220.000\n",
      "V1 = 4.545\n",
      "V23 = 5.455\n"
     ]
    }
   ],
   "source": [
    "#example 4\n",
    "from sympy import symbols, Eq, solve\n",
    "\n",
    "# Define known values\n",
    "V, R1, R2, R3 = 10, 100, 200, 300  # Voltage and resistances\n",
    "\n",
    "# Define unknown variables as symbols\n",
    "I1, I2, I3, It, Req, R23, V23, V1 = symbols('I1 I2 I3 It Req R23 V23 V1')\n",
    "\n",
    "# Step 1: Parallel resistance of R2 and R3\n",
    "eq_R23 = Eq(R23, 1 / (1 / R2 + 1 / R3))  # Formula for parallel resistance\n",
    "\n",
    "# Step 2: Total equivalent resistance\n",
    "eq_Req = Eq(Req, R1 + R23)  # Req = R1 + R23\n",
    "\n",
    "# Step 3: Total current (It = V / Req)\n",
    "eq_It = Eq(It, V / Req)\n",
    "\n",
    "# Step 4: Voltage across R1 (V1 = It * R1)\n",
    "eq_V1 = Eq(V1, It * R1)\n",
    "\n",
    "# Step 5: Voltage across R2 and R3 (V23 = V - V1)\n",
    "eq_V23 = Eq(V23, V - V1)\n",
    "\n",
    "# Step 6: Current through R2 and R3\n",
    "eq_I2 = Eq(I2, V23 / R2)  # Ohm's law for R2\n",
    "eq_I3 = Eq(I3, V23 / R3)  # Ohm's law for R3\n",
    "\n",
    "# Solve all equations simultaneously\n",
    "solution = solve([eq_R23, eq_Req, eq_It, eq_V1, eq_V23, eq_I2, eq_I3], \n",
    "                 (R23, Req, It, V1, V23, I2, I3), dict=True)[0]\n",
    "\n",
    "# Display results\n",
    "print(\"Solution:\")\n",
    "for var, value in solution.items():\n",
    "    print(f\"{var} = {value:.3f}\")\n"
   ]
  },
  {
   "cell_type": "markdown",
   "id": "b1c69292-8fe0-47c8-b13b-b8d5e02ddff0",
   "metadata": {},
   "source": [
    "<a id='circuit'></a>\n",
    "# Circuit Network Solve\n",
    "\n",
    "Let's solve a simple circuit network. In this network, the S1 button is connected to the S2 and S3 buttons. There is a 100 Ω resistor between each button. The s1 is connected to a voltag esource of 3.3V and s3 is grounded. "
   ]
  },
  {
   "cell_type": "code",
   "execution_count": 85,
   "id": "e0e8d0d8-116a-4406-9284-7fff54c3d772",
   "metadata": {},
   "outputs": [
    {
     "name": "stdout",
     "output_type": "stream",
     "text": [
      "Solution:\n",
      "i1 = 0.0165\n",
      "i2 = 0.0165\n",
      "i3 = 0.0330\n",
      "it = 0.0495\n",
      "s2 = 1.6500\n"
     ]
    }
   ],
   "source": [
    "from sympy import symbols, Eq, solve\n",
    "\n",
    "# Define variables\n",
    "i1, i2, i3, it = symbols('i1 i2 i3 it')  # Currents\n",
    "s1, s2, s3 = symbols('s1 s2 s3')         # Node voltages\n",
    "r = 100                                  # Resistance\n",
    "s1=3.3\n",
    "s3=0\n",
    "# Define equations\n",
    "equations = [\n",
    "    Eq(it, i1 + i3),                     # Total current\n",
    "    Eq(i1 * r, s1 - s2),                 # Ohm's law for branch 1\n",
    "    Eq(i3 * r, s1 - s3),                 # Ohm's law for branch 2\n",
    "    Eq(i2 * r, s2 - s3),                 # Ohm's law for branch connecting s2 and s3\n",
    "    Eq(i1, i2),                          # KCL at node s2\n",
    "]\n",
    "\n",
    "\n",
    "# Solve\n",
    "solution = solve(equations, (i1, i2, i3, it, s2))\n",
    "\n",
    "print(\"Solution:\")\n",
    "for var, value in solution.items():\n",
    "    print(f\"{var} = {value:.4f}\")"
   ]
  },
  {
   "cell_type": "markdown",
   "id": "89a955f4-9c16-4ffa-ab60-a2d81522feda",
   "metadata": {},
   "source": [
    "# Network 1 of the voltage divider module\n",
    "Consider only the first four nodes of the grid, S1, S2, S4 and S5. Calculate their voltage values and the current through each branch.(i1, i3, i4 and i6)"
   ]
  },
  {
   "cell_type": "code",
   "execution_count": 156,
   "id": "4c09793d-a72d-404d-805d-6ddd19620c82",
   "metadata": {},
   "outputs": [
    {
     "data": {
      "text/plain": [
       "{i1: 0.0220000000000000,\n",
       " i3: 0.0220000000000000,\n",
       " i4: 0.0220000000000000,\n",
       " i6: 0.0220000000000000,\n",
       " it: 0.0440000000000000,\n",
       " s2: 1.10000000000000,\n",
       " s4: 2.20000000000000}"
      ]
     },
     "execution_count": 156,
     "metadata": {},
     "output_type": "execute_result"
    }
   ],
   "source": [
    "from sympy import symbols, Eq, solve\n",
    "\n",
    "# Define the variables\n",
    "i1, i3, i4, i6, it = symbols('i1 i3 i4 i6 it')\n",
    "s1, s2, s4, s5 = symbols('s1 s2 s4 s5')\n",
    "r1 = 100\n",
    "r2 =50\n",
    "s1=3.3\n",
    "s5=0;\n",
    "\n",
    "# Define the equations\n",
    "equations = [\n",
    "    Eq(it, i1 + i3),\n",
    "    Eq(i1, i4),\n",
    "    Eq(i3, i6),\n",
    "    Eq(i1 * r1, s1 - s2),\n",
    "    Eq(i3 * r2, s1 - s4),\n",
    "    Eq(i4 * r2, s2 - s5),\n",
    "    Eq(i6 * r1, s4 - s5),\n",
    "]\n",
    "\n",
    "# Substitute s1 = 3.3, s8 = 0\n",
    "substitutions = {s1: 3.3, s5: 0}\n",
    "\n",
    "# Solve the system of equations\n",
    "solution = solve(equations, (i1, i3, i4, i6, it, s2, s4))\n",
    "\n",
    "# Substitute the known values\n",
    "solution_substituted = {k: v.subs(substitutions) for k, v in solution.items()}\n",
    "solution_substituted"
   ]
  },
  {
   "cell_type": "markdown",
   "id": "78f0da97-6c9b-4001-b635-ae9f517058f9",
   "metadata": {},
   "source": [
    "# Assignment1 for students\n",
    "\n",
    "Consider Network 1 on your breadboard and determine the voltage at each node and the current through each branch. "
   ]
  },
  {
   "cell_type": "markdown",
   "id": "5dbeda76-331a-4481-ae29-13b4f2ed9e92",
   "metadata": {},
   "source": [
    "# Assignment2 for students\n",
    "\n",
    "Consider Network 2 on your breadboard and determine the voltage at each node and the current through each branch. "
   ]
  },
  {
   "cell_type": "code",
   "execution_count": null,
   "id": "39c1b0f7-2f5c-4813-adac-7731342615ac",
   "metadata": {},
   "outputs": [],
   "source": []
  }
 ],
 "metadata": {
  "kernelspec": {
   "display_name": "Python 3 (ipykernel)",
   "language": "python",
   "name": "python3"
  },
  "language_info": {
   "codemirror_mode": {
    "name": "ipython",
    "version": 3
   },
   "file_extension": ".py",
   "mimetype": "text/x-python",
   "name": "python",
   "nbconvert_exporter": "python",
   "pygments_lexer": "ipython3",
   "version": "3.12.5"
  }
 },
 "nbformat": 4,
 "nbformat_minor": 5
}
