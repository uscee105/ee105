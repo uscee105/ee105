{
 "cells": [
  {
   "cell_type": "markdown",
   "metadata": {},
   "source": [
    "# ECE 105 Python Bootcamp"
   ]
  },
  {
   "cell_type": "markdown",
   "metadata": {},
   "source": [
    "# Table of Contents\n",
    "* [Overview](#overview)\n",
    "* [Python](#python)\n",
    "    * [Control Flow](#ctrl)\n",
    "    * [List Comprehension](#lst)\n",
    "* [Circuit Network Array](#circuit)\n",
    "* [NumPy](#numpy)\n",
    "    * [Arrays](#arrays)\n",
    "    * [Slicing](#slice)\n",
    "    * [Useful Functions](#funcs)\n",
    "* [Miscellaneous Functions](#misc)\n",
    "* [Questions](#qs)"
   ]
  },
  {
   "cell_type": "markdown",
   "metadata": {},
   "source": [
    "<a id='overview'></a>\n",
    "# Overview\n",
    "\n",
    "This mini-lab serves as an introduction to IPython and a couple important packages we will be using throughout the semester. The lab aims to teach you proper usage of certain commands and can serve as a reference doc in the future. Even if you are a python wizard already, we recommend that you at least look through the lab to get re-acquainted with the functions we will be using a lot.\n",
    "\n",
    "This lab is separated into two main parts: Guide and Questions. The Guide portion walks you through frequently used Python and IPython code, functions, and techniques. The Guide is supplemented with numerous blocks of example code to showcase concepts. The Questions portion of the lab is a collection of 10 problems meant to test your understanding of this guide. If you can answer these questions, then you have the knowledge to complete any and all programming tasks in ECE 105\n",
    "\n",
    "If your computer is missing a module you can install it directly from here. For example, if you're missing the sympy module run\n",
    "## ! pip install sympy "
   ]
  },
  {
   "cell_type": "markdown",
   "metadata": {},
   "source": [
    "<a id='python'></a>\n",
    "# Python\n",
    "\n",
    "Both the labs and the homeworks in this course will require you to write some **Python** code. If you're new to programming, have no fear, as the assignments don't require more than just the fundamentals;"
   ]
  },
  {
   "cell_type": "markdown",
   "metadata": {},
   "source": [
    "<a id='ctrl'></a>\n",
    "## Control Flow in Python\n",
    "\n",
    "Programming languages usually contain statements that can be used to direct or \"control the flow\" of execution. This includes (but is not limited to) conditional statements such as `if`, `else`, and `elif`, and loop-control statements such as `while`, `for`, `break`, and `continue`. "
   ]
  },
  {
   "cell_type": "markdown",
   "metadata": {},
   "source": [
    "### Conditional Statements: (if, else, elif)"
   ]
  },
  {
   "cell_type": "code",
   "execution_count": 4,
   "metadata": {
    "collapsed": false,
    "jupyter": {
     "outputs_hidden": false
    }
   },
   "outputs": [
    {
     "name": "stdout",
     "output_type": "stream",
     "text": [
      "if condition is True!\n"
     ]
    }
   ],
   "source": [
    "# Example 1: Simple if/else\n",
    "\n",
    "x = 21\n",
    "\n",
    "if x > 20: # Asking the question, \"Is x greater than 20?\"\n",
    "    print('if condition is True!')\n",
    "else:\n",
    "    print('if condition is False!')"
   ]
  },
  {
   "cell_type": "code",
   "execution_count": 5,
   "metadata": {
    "collapsed": false,
    "jupyter": {
     "outputs_hidden": false
    }
   },
   "outputs": [
    {
     "name": "stdout",
     "output_type": "stream",
     "text": [
      "first if condition is False and second if condition is True!\n"
     ]
    }
   ],
   "source": [
    "# Example 2: Introducing elif\n",
    "\n",
    "x = 16\n",
    "\n",
    "if x > 20: # Asking the question, \"Is x greater than 20?\"\n",
    "    print('first if condition is True!')\n",
    "elif x > 10 and x < 20: # Asking the question, \"Is x greater than 10 AND less than 20?\"\n",
    "    print('first if condition is False and second if condition is True!')\n",
    "else:\n",
    "    print('Neither if condition was True!')"
   ]
  },
  {
   "cell_type": "markdown",
   "metadata": {},
   "source": [
    "### Loop-Control Statements: (while, for)"
   ]
  },
  {
   "cell_type": "code",
   "execution_count": 6,
   "metadata": {
    "collapsed": false,
    "jupyter": {
     "outputs_hidden": false
    }
   },
   "outputs": [
    {
     "name": "stdout",
     "output_type": "stream",
     "text": [
      "i: 0\n",
      "i: 1\n",
      "i: 2\n",
      "i: 3\n",
      "i: 4\n"
     ]
    }
   ],
   "source": [
    "# Example 3: while\n",
    "\n",
    "i = 0\n",
    "while i < 5: # Check if i < 5 every iteration. Stop looping if the condition is false, i.e. if i >= 5.\n",
    "    print('i:',i)\n",
    "    i += 1 # increment i by 1"
   ]
  },
  {
   "cell_type": "markdown",
   "metadata": {},
   "source": [
    "Unlike while loops, which can theoretically run \"forever\" given the right condition, for loops serve a different purpose -- iterating a fixed number of times. For loops in Python expect an iterable object -- something similar to a list -- to control the number of iterations. The example below is \"equivalent\" to the while loop in the previous example."
   ]
  },
  {
   "cell_type": "code",
   "execution_count": 7,
   "metadata": {
    "collapsed": false,
    "jupyter": {
     "outputs_hidden": false
    }
   },
   "outputs": [
    {
     "name": "stdout",
     "output_type": "stream",
     "text": [
      "i: 0\n",
      "i: 1\n",
      "i: 2\n",
      "i: 3\n",
      "i: 4\n"
     ]
    }
   ],
   "source": [
    "# Example 4: for (pun intended)\n",
    "\n",
    "for i in range(0,5): # read about range() here: http://pythoncentral.io/pythons-range-function-explained/ . \n",
    "    print('i:',i)\n",
    "\n",
    "# Notice no i += 1 statement!"
   ]
  },
  {
   "cell_type": "code",
   "execution_count": 8,
   "metadata": {
    "collapsed": false,
    "jupyter": {
     "outputs_hidden": false
    }
   },
   "outputs": [
    {
     "name": "stdout",
     "output_type": "stream",
     "text": [
      "word: ece105\n"
     ]
    }
   ],
   "source": [
    "# Example 5: Iterating through lists\n",
    "\n",
    "char_list = ['e', 'c', 'e', 1, 0, 5]\n",
    "word = ''\n",
    "\n",
    "for element in char_list:\n",
    "    word += str(element)\n",
    "\n",
    "print('word:',word)"
   ]
  },
  {
   "cell_type": "markdown",
   "metadata": {},
   "source": [
    "All of the loop examples so far have terminated with some sort of stopping condition (i < 5, i in range(0,5), element in char_list). But what if we wanted to exit a loop early? Or, what if we wanted to immediately go to the next loop iteration? These two changes can be applied using the **break** and **continue** statements, respectively."
   ]
  },
  {
   "cell_type": "code",
   "execution_count": 9,
   "metadata": {
    "collapsed": false,
    "jupyter": {
     "outputs_hidden": false
    }
   },
   "outputs": [
    {
     "name": "stdout",
     "output_type": "stream",
     "text": [
      "Loop without break statement.\n",
      "Skittles\n",
      "Snickers\n",
      "3 Musketeers\n",
      "Twizzlers\n",
      "Kit-Kat\n",
      "Twix\n",
      "Almond Joy\n",
      "\n",
      "Loop with break statement.\n",
      "Skittles\n",
      "Snickers\n",
      "3 Musketeers\n",
      "Twizzlers\n",
      "Kit-Kat\n"
     ]
    }
   ],
   "source": [
    "# Example 6: The break statement\n",
    "\n",
    "candies = ['Skittles', 'Snickers', '3 Musketeers', 'Twizzlers', 'Kit-Kat', 'Twix', 'Almond Joy']\n",
    "\n",
    "print('Loop without break statement.')\n",
    "for candy in candies:\n",
    "    print(candy)\n",
    "\n",
    "print('\\nLoop with break statement.')\n",
    "for candy in candies:\n",
    "    print(candy)\n",
    "    if candy == 'Kit-Kat':\n",
    "        break"
   ]
  },
  {
   "cell_type": "code",
   "execution_count": 10,
   "metadata": {
    "collapsed": false,
    "jupyter": {
     "outputs_hidden": false
    }
   },
   "outputs": [
    {
     "name": "stdout",
     "output_type": "stream",
     "text": [
      "Same Loop as above but with continue instead of break statement.\n",
      "Skittles\n",
      "Snickers\n",
      "3 Musketeers\n",
      "Twizzlers\n",
      "Kit-Kat\n",
      "Twix\n",
      "Almond Joy\n",
      "\n",
      "Loop that skips over every-other candy.\n",
      "Skittles\n",
      "3 Musketeers\n",
      "Kit-Kat\n",
      "Almond Joy\n"
     ]
    }
   ],
   "source": [
    "# Example 7: The continue statement\n",
    "\n",
    "candies = ['Skittles', 'Snickers', '3 Musketeers', 'Twizzlers', 'Kit-Kat', 'Twix', 'Almond Joy']\n",
    "\n",
    "print('Same Loop as above but with continue instead of break statement.')\n",
    "for candy in candies:\n",
    "    print(candy)\n",
    "    if candy == 'Kit-Kat':\n",
    "        continue\n",
    "\n",
    "print('\\nLoop that skips over every-other candy.')\n",
    "for i in range(len(candies)):\n",
    "    if i % 2 == 1: # if i is odd. The \"%\" symbol is the modulo operator: https://en.wikipedia.org/wiki/Modulo_operation\n",
    "        continue\n",
    "    print(candies[i])"
   ]
  },
  {
   "cell_type": "markdown",
   "metadata": {},
   "source": [
    "**Notice how the continue statement enabled us to skip every-other candy.**"
   ]
  },
  {
   "cell_type": "markdown",
   "metadata": {},
   "source": [
    "<a id='lst'></a>\n",
    "## List Comprehension\n",
    "\n",
    "There are multiple ways of creating lists in Python. If you recall from the first discussion, a list is a mutable array of data. They can be created using square brackets [ ]. Elements in the list are separated by commas. Elements can be of any type (int, string, float, etc.).\n",
    "\n",
    "Important Python List functions: \n",
    "\n",
    "- `'+'` joins lists and creates a *new* list. \n",
    "\n",
    "- `len(x)` to get the length of list `x`\n",
    "\n",
    "\n",
    "Next, we will explore the idea of list comprehension, which is a compact way of creating a list from a for-loop in a single line. Please keep in mind that list comprehension is just a style suggestion; any list comprehension can be expanded to a fully fleshed out control-loop block. However, the advantage of list comprehensions is their compact yet expressive syntax.\n",
    "\n",
    "\n",
    "**For the example below, our goal is to create a list of the squares of each even integer in the range from 0 to 10 (inclusive).**"
   ]
  },
  {
   "cell_type": "code",
   "execution_count": 11,
   "metadata": {
    "collapsed": false,
    "jupyter": {
     "outputs_hidden": false
    }
   },
   "outputs": [
    {
     "name": "stdout",
     "output_type": "stream",
     "text": [
      "[0, 4, 16, 36, 64, 100]\n"
     ]
    }
   ],
   "source": [
    "# Example 8a: for-loop list construction\n",
    "\n",
    "# Expected output: [0*0, 2*2, 4*4, 6*6, 8*8, 10*10], which equals: [0, 4, 16, 36, 64, 100]\n",
    "\n",
    "lst = []\n",
    "for i in range(11): # iterate over numbers 0 through 10 (inclusive)\n",
    "    if i % 2 == 0: # see example 7 for explanation of \"%\" symbol.\n",
    "        lst += [i**2] # '**' is Python syntax for rasing the power. Alternatively: lst.append(i**2)\n",
    "\n",
    "print(lst)"
   ]
  },
  {
   "cell_type": "code",
   "execution_count": 12,
   "metadata": {
    "collapsed": false,
    "jupyter": {
     "outputs_hidden": false
    }
   },
   "outputs": [
    {
     "name": "stdout",
     "output_type": "stream",
     "text": [
      "[0, 4, 16, 36, 64, 100]\n"
     ]
    }
   ],
   "source": [
    "# Example 8b: List Comprehension\n",
    "\n",
    "lst = [i**2 for i in range(11) if i % 2 == 0] # one-liner magic\n",
    "print(lst)"
   ]
  },
  {
   "cell_type": "markdown",
   "metadata": {},
   "source": [
    "The syntax for a list comprehension is as follows:<br>\n",
    "**list = ** **<span style=\"color:green\">[</span>**<span style=\"color:red\">function(</span>**ITEM**<span style=\"color:red\">)</span> **<span style=\"color:green\">for</span>** **ITEM** **<span style=\"color:green\">in</span>** <span style=\"color:orange\">ITERABLE_OBJECT</span> **<span style=\"color:green\">if</span>** <span style=\"color:blue\">condition(</span>**ITEM**<span style=\"color:blue\">)</span>**<span style=\"color:green\">]</span>**\n",
    "\n",
    "In example 8b above:<br>\n",
    "**ITEM** = i<br>\n",
    "<span style=\"color:orange\">ITERABLE_OBJECT</span> = range(11)<br>\n",
    "<span style=\"color:red\">function()</span> = raise **ITEM** to the second power<br>\n",
    "<span style=\"color:blue\">condition()</span> = is **ITEM** even?<br>\n",
    "\n",
    "A couple notes: list comprehensions DO NOT require a condition, list comprehensions can have nested for-loops."
   ]
  },
  {
   "cell_type": "markdown",
   "metadata": {},
   "source": [
    "<a id='numpy'></a>\n",
    "# NumPy\n",
    "\n",
    "From the NumPy website, \"NumPy is the fundamental package for scientific computing with Python. It contains among other things: a powerful N-dimensional array object.\" For the purposes of this course, we primarily use NumPy for its fast and fancy matrix functions. In general, Python list operations are slow; NumPy functions exploit the NumPy array object to \"vectorize\" the code, which usually improves the runtime of matrix calculations. **As a general rule of thumb, if a task involves vectors or matrices, you should resort to NumPy.** In addition to speeding up basic operations, NumPy contains an enormous library of matrix functions, so if you ever need to manipulate a vector or matrix, NumPy most likely already has a function implemented to suit your needs.\n",
    "\n",
    "**Quintessential NumPy Documentation: http://docs.scipy.org/doc/numpy/reference/index.html**"
   ]
  },
  {
   "cell_type": "markdown",
   "metadata": {},
   "source": [
    "**<span style=\"color:red\">Run the cell below to import the packages needed to complete this lab.</span>**"
   ]
  },
  {
   "cell_type": "code",
   "execution_count": 14,
   "metadata": {
    "collapsed": false,
    "jupyter": {
     "outputs_hidden": false
    }
   },
   "outputs": [],
   "source": [
    "import numpy as np # from now on, we can access numpy functions by referencing \"np\" instead of numpy\n",
    "from numpy import linalg # import the linalg package, which inlcudes useful matrix operations"
   ]
  },
  {
   "cell_type": "markdown",
   "metadata": {},
   "source": [
    "<a id='arrays'></a>\n",
    "## Creating a NumPy array object\n",
    "\n",
    "NumPy is centered around the `numpy.array()` class. This array object is extremely useful, however, it is often confused with built-in Python lists, particularly when trying to represent vectors. NumPy arrays and Python Lists are NOT synonymous; you **cannot** simply apply functions to NumPy arrays as if they were Python Lists."
   ]
  },
  {
   "cell_type": "code",
   "execution_count": 15,
   "metadata": {
    "collapsed": false,
    "jupyter": {
     "outputs_hidden": false
    }
   },
   "outputs": [
    {
     "name": "stdout",
     "output_type": "stream",
     "text": [
      "Python list: [1, 2, 3, 4]\n",
      "NumPy array: [1 2 3 4]\n"
     ]
    }
   ],
   "source": [
    "# Example 9: Going from Python list to NumPy array\n",
    "\n",
    "py_lst = [1,2,3,4]\n",
    "np_arr = np.array(py_lst)\n",
    "print('Python list:',py_lst)\n",
    "print('NumPy array:',np_arr)"
   ]
  },
  {
   "cell_type": "code",
   "execution_count": 17,
   "metadata": {
    "collapsed": false,
    "jupyter": {
     "outputs_hidden": false
    }
   },
   "outputs": [
    {
     "name": "stdout",
     "output_type": "stream",
     "text": [
      "[[0. 1. 2. 3.]\n",
      " [1. 2. 3. 4.]\n",
      " [2. 3. 4. 5.]\n",
      " [3. 4. 5. 6.]]\n"
     ]
    }
   ],
   "source": [
    "# Example 10: Populating an empty NumPy array\n",
    "\n",
    "np_arr = np.empty([4,4]) # An empty 4x4 numpy array\n",
    "\n",
    "for i in range(4):\n",
    "    for j in range(4):\n",
    "        np_arr[i,j] = i+j\n",
    "\n",
    "print(np_arr)"
   ]
  },
  {
   "cell_type": "code",
   "execution_count": 18,
   "metadata": {
    "collapsed": false,
    "jupyter": {
     "outputs_hidden": false
    }
   },
   "outputs": [
    {
     "name": "stdout",
     "output_type": "stream",
     "text": [
      "np_zeros:\n",
      " [[0. 0. 0. 0. 0.]\n",
      " [0. 0. 0. 0. 0.]\n",
      " [0. 0. 0. 0. 0.]\n",
      " [0. 0. 0. 0. 0.]\n",
      " [0. 0. 0. 0. 0.]]\n",
      "\n",
      "np_id:\n",
      " [[1. 0. 0. 0. 0.]\n",
      " [0. 1. 0. 0. 0.]\n",
      " [0. 0. 1. 0. 0.]\n",
      " [0. 0. 0. 1. 0.]\n",
      " [0. 0. 0. 0. 1.]]\n"
     ]
    }
   ],
   "source": [
    "# Example 11: Creating a NumPy array of zeros and the Identity matrix\n",
    "\n",
    "np_zeros = np.zeros([5,5]) # 5x5 NumPy array of all zeros\n",
    "np_id = np.eye(5) # 5x5 Identity array\n",
    "\n",
    "print('np_zeros:\\n',np_zeros)\n",
    "print('\\nnp_id:\\n',np_id)"
   ]
  },
  {
   "cell_type": "code",
   "execution_count": 19,
   "metadata": {
    "collapsed": false,
    "jupyter": {
     "outputs_hidden": false
    }
   },
   "outputs": [
    {
     "name": "stdout",
     "output_type": "stream",
     "text": [
      "np_arr1: [0. 1. 2. 3. 4. 5. 6. 7. 8. 9.]\n",
      "np_arr2: [0 1 2 3 4 5 6 7 8 9]\n"
     ]
    }
   ],
   "source": [
    "# Example 12: Creating a NumPy array that spans a certain set/list of numbers\n",
    "\n",
    "\"\"\"numpy.linspace() is useful when you know the number of divisions over a certain range you want, \n",
    "i.e., you want to divide the range [0-9] into 10 equal divisions.\n",
    "\"\"\"\n",
    "np_arr1 = np.linspace(0, 9, 10) # args for linspace(): (start, stop, num_divisions)\n",
    "print('np_arr1:',np_arr1)\n",
    "\n",
    "\n",
    "\"\"\"numpy.arange() is useful when you know how far away each division is from one another, a.k.a. the step size.\n",
    "You want to start at 0 and get every number that is 1 away from the previous number until you get to 9.\n",
    "\"\"\"\n",
    "np_arr2 = np.arange(0, 10, 1) # args for arange(): (start, stop, step)\n",
    "print('np_arr2:',np_arr2)"
   ]
  },
  {
   "cell_type": "markdown",
   "metadata": {},
   "source": [
    "### NumPy array vs. Python List\n",
    "\n",
    "Most arithmetic operations apply to NumPy arrays in element-wise fashion. This is in contrast with arithmetic operations for Python lists, which apply via concatenation."
   ]
  },
  {
   "cell_type": "code",
   "execution_count": 20,
   "metadata": {
    "collapsed": false,
    "jupyter": {
     "outputs_hidden": false
    }
   },
   "outputs": [
    {
     "name": "stdout",
     "output_type": "stream",
     "text": [
      "lst: [1, 2, 3]\n",
      "lst + lst = [1, 2, 3, 1, 2, 3]\n",
      "\n",
      "arr:\n",
      " [[1. 0. 0.]\n",
      " [0. 1. 0.]\n",
      " [0. 0. 1.]]\n",
      "arr + arr =\n",
      " [[2. 0. 0.]\n",
      " [0. 2. 0.]\n",
      " [0. 0. 2.]]\n"
     ]
    }
   ],
   "source": [
    "# Example 13: NumPy array vs. Python list\n",
    "\n",
    "lst = [1,2,3]\n",
    "arr = np.eye(3)\n",
    "\n",
    "lst2 = lst + lst\n",
    "arr2 = arr + arr\n",
    "\n",
    "print('lst:',lst)\n",
    "print('lst + lst =',lst2)\n",
    "print('\\narr:\\n',arr)\n",
    "print('arr + arr =\\n',arr2)"
   ]
  },
  {
   "cell_type": "markdown",
   "metadata": {},
   "source": [
    "<a id='slice'></a>\n",
    "## NumPy array slicing\n",
    "\n",
    "Array slicing is a technique in Python (and other languages) that programmers use to extract specific index-based information from an array. Array slicing answers queries such as, \"What are the first/last n elements in this array?\", \"What are the elements in the first r rows and first c columns of this matrix?\", \"What is every nth element in this array?\""
   ]
  },
  {
   "cell_type": "code",
   "execution_count": 21,
   "metadata": {
    "collapsed": false,
    "jupyter": {
     "outputs_hidden": false
    }
   },
   "outputs": [
    {
     "name": "stdout",
     "output_type": "stream",
     "text": [
      "\n",
      "First ten elements of simple_arr: [0 1 2 3 4 5 6 7 8 9]\n",
      "\n",
      "Last ten elements of simple_arr: [90 91 92 93 94 95 96 97 98 99]\n",
      "\n",
      "Elements 16-26 of simple_arr: [16 17 18 19 20 21 22 23 24 25]\n"
     ]
    }
   ],
   "source": [
    "# Example 14: Basic vector/list slicing\n",
    "\n",
    "simple_arr = np.arange(0,100,1)\n",
    "\n",
    "print('\\nFirst ten elements of simple_arr:',simple_arr[:10])\n",
    "print('\\nLast ten elements of simple_arr:',simple_arr[-10:]) # you should be aware that in Python, \n",
    "# requesting a negative index (-n) from list a is the same as requesting is equivalent to requesting a[len(a)-n].\n",
    "print('\\nElements 16-26 of simple_arr:',simple_arr[16:26]) # Notice slicing includes the first index and excludes that last index."
   ]
  },
  {
   "cell_type": "markdown",
   "metadata": {},
   "source": [
    "**<span style=\"color:red\">Slicing includes the start index and excludes the end index, i.e. `simple_arr[16:26]` means to extract the values in `simple_arr` at indexes in the range `[16,26)` which is the same as `[16,25]` since indexes can only be integers.</span>**"
   ]
  },
  {
   "cell_type": "code",
   "execution_count": 22,
   "metadata": {
    "collapsed": false,
    "jupyter": {
     "outputs_hidden": false
    }
   },
   "outputs": [
    {
     "name": "stdout",
     "output_type": "stream",
     "text": [
      "\n",
      "Every-other element of simple_arr, starting from 0: [ 0  2  4  6  8 10 12 14 16 18]\n",
      "\n",
      "Every-third element of simple_arr, starting from 0: [ 0  3  6  9 12 15 18]\n",
      "\n",
      "Every-other element of simple_arr, starting from 10-16: [10 12 14]\n"
     ]
    }
   ],
   "source": [
    "# Example 15: Some fancy vector/list slicing\n",
    "\n",
    "simple_arr = np.arange(0,20,1)\n",
    "\n",
    "print('\\nEvery-other element of simple_arr, starting from 0:',simple_arr[::2])\n",
    "print('\\nEvery-third element of simple_arr, starting from 0:',simple_arr[::3])\n",
    "print('\\nEvery-other element of simple_arr, starting from 10-16:',simple_arr[10:16:2])"
   ]
  },
  {
   "cell_type": "code",
   "execution_count": 24,
   "metadata": {
    "collapsed": false,
    "jupyter": {
     "outputs_hidden": false
    }
   },
   "outputs": [
    {
     "name": "stdout",
     "output_type": "stream",
     "text": [
      "i:\n",
      " [[ 0  1  2  3  4]\n",
      " [ 5  6  7  8  9]\n",
      " [10 11 12 13 14]\n",
      " [15 16 17 18 19]\n",
      " [20 21 22 23 24]]\n",
      "\n",
      "First row of i: [0 1 2 3 4]\n",
      "\n",
      "First column of i: [ 0  5 10 15 20]\n",
      "\n",
      "Rows 1-3 of i:\n",
      " [[ 5  6  7  8  9]\n",
      " [10 11 12 13 14]\n",
      " [15 16 17 18 19]]\n",
      "\n",
      "Columns 1-3 of i:\n",
      " [[ 1  2  3]\n",
      " [ 6  7  8]\n",
      " [11 12 13]\n",
      " [16 17 18]\n",
      " [21 22 23]]\n",
      "\n",
      "Top left 3x3 of i:\n",
      " [[ 0  1  2]\n",
      " [ 5  6  7]\n",
      " [10 11 12]]\n",
      "\n",
      "Every-other column of i:\n",
      " [[ 0  2  4]\n",
      " [ 5  7  9]\n",
      " [10 12 14]\n",
      " [15 17 19]\n",
      " [20 22 24]]\n"
     ]
    }
   ],
   "source": [
    "# Example 16: Slicing NumPy arrays\n",
    "\n",
    "i = np.array(range(25)).reshape([5,5]) # numpy.reshape() will be introduced in the next cell\n",
    "print('i:\\n',i)\n",
    "\n",
    "print('\\nFirst row of i:',i[0])\n",
    "print('\\nFirst column of i:',i[:,0])\n",
    "print('\\nRows 1-3 of i:\\n',i[1:4])\n",
    "print('\\nColumns 1-3 of i:\\n',i[:,1:4])\n",
    "print('\\nTop left 3x3 of i:\\n',i[:3,:3])\n",
    "print('\\nEvery-other column of i:\\n',i[:,::2])"
   ]
  },
  {
   "cell_type": "markdown",
   "metadata": {},
   "source": [
    "### NumPy array reshaping\n",
    "\n",
    "Reshaping is useful when you want to do something such as turn a vector into a matrix or vice-versa. We want to be able to do this because it is often easier to construct the desired array as a vector then reshape the vector into a matrix."
   ]
  },
  {
   "cell_type": "code",
   "execution_count": 25,
   "metadata": {
    "collapsed": false,
    "jupyter": {
     "outputs_hidden": false
    }
   },
   "outputs": [
    {
     "name": "stdout",
     "output_type": "stream",
     "text": [
      "Shape of test_arr: (15, 189)\n",
      "Number of elements in test_arr: 2835\n"
     ]
    }
   ],
   "source": [
    "# Example 17: Determining the shape of a NumPy array\n",
    "\n",
    "test_arr = np.zeros([15,189])\n",
    "\n",
    "print('Shape of test_arr:',test_arr.shape) # Notice .shape is a NumPy array property NOT a function, i.e. no parenthesis.\n",
    "print('Number of elements in test_arr:',test_arr.size)"
   ]
  },
  {
   "cell_type": "code",
   "execution_count": 27,
   "metadata": {
    "collapsed": false,
    "jupyter": {
     "outputs_hidden": false
    }
   },
   "outputs": [
    {
     "name": "stdout",
     "output_type": "stream",
     "text": [
      "\n",
      "test_arr: [ 0  1  2  3  4  5  6  7  8  9 10 11 12 13 14 15]\n",
      "Shape of test_arr: (16,)\n",
      "\n",
      "Reshaped test_arr:\n",
      " [[ 0  1  2  3]\n",
      " [ 4  5  6  7]\n",
      " [ 8  9 10 11]\n",
      " [12 13 14 15]]\n",
      "Shape of test_arr_4x4: (4, 4)\n",
      "\n",
      "test_arr back as a vector: [ 0  1  2  3  4  5  6  7  8  9 10 11 12 13 14 15]\n",
      "Shape of test_arr_vec: (16,)\n"
     ]
    }
   ],
   "source": [
    "# Example 18: Using reshape()\n",
    "\n",
    "test_arr = np.array(range(16))\n",
    "print('\\ntest_arr:',test_arr)\n",
    "print('Shape of test_arr:',test_arr.shape)\n",
    "\n",
    "test_arr_4x4 = test_arr.reshape([4,4]) # Notice reshape() is called on the array object, i.e. array.reshape(dimensions) NOT np.reshape(arr, dimensions)!\n",
    "print('\\nReshaped test_arr:\\n',test_arr_4x4)\n",
    "print('Shape of test_arr_4x4:',test_arr_4x4.shape)\n",
    "\n",
    "test_arr_vec = test_arr_4x4.reshape(test_arr_4x4.size) # Use array.flatten() instead. This is just to show array.reshape works in both directions.\n",
    "print('\\ntest_arr back as a vector:',test_arr_vec)\n",
    "print('Shape of test_arr_vec:',test_arr_vec.shape)"
   ]
  },
  {
   "cell_type": "markdown",
   "metadata": {},
   "source": [
    "<a id='funcs'></a>\n",
    "## Useful NumPy functions: (transpose(), linalg.inv(), dot(), concatenate(), vstack(), hstack(), max(), argmax())\n",
    "\n",
    "**Quintessential NumPy Documentation: http://docs.scipy.org/doc/numpy/reference/index.html**"
   ]
  },
  {
   "cell_type": "code",
   "execution_count": 29,
   "metadata": {
    "collapsed": false,
    "jupyter": {
     "outputs_hidden": false
    }
   },
   "outputs": [
    {
     "name": "stdout",
     "output_type": "stream",
     "text": [
      "\n",
      "norm:\n",
      " [[ 0  1  2  3]\n",
      " [ 4  5  6  7]\n",
      " [ 8  9 10 11]\n",
      " [12 13 14 15]]\n",
      "\n",
      "norm_transpose:\n",
      " [[ 0  4  8 12]\n",
      " [ 1  5  9 13]\n",
      " [ 2  6 10 14]\n",
      " [ 3  7 11 15]]\n",
      "\n",
      "norm easy transpose:\n",
      " [[ 0  4  8 12]\n",
      " [ 1  5  9 13]\n",
      " [ 2  6 10 14]\n",
      " [ 3  7 11 15]]\n"
     ]
    }
   ],
   "source": [
    "# Example 19: numpy.transpose()\n",
    "\n",
    "norm = np.array(range(16)).reshape([4,4])\n",
    "print('\\nnorm:\\n',norm)\n",
    "\n",
    "norm_transpose = np.transpose(norm)\n",
    "print('\\nnorm_transpose:\\n',norm_transpose)\n",
    "\n",
    "print('\\nnorm easy transpose:\\n',norm.T) # numpy.transpose(arr) == arr.T"
   ]
  },
  {
   "cell_type": "code",
   "execution_count": 30,
   "metadata": {
    "collapsed": false,
    "jupyter": {
     "outputs_hidden": false
    }
   },
   "outputs": [
    {
     "name": "stdout",
     "output_type": "stream",
     "text": [
      "\n",
      "i:\n",
      " [[1. 0. 0. 0.]\n",
      " [0. 1. 0. 0.]\n",
      " [0. 0. 1. 0.]\n",
      " [0. 0. 0. 1.]]\n",
      "\n",
      "i_inv:\n",
      " [[1. 0. 0. 0.]\n",
      " [0. 1. 0. 0.]\n",
      " [0. 0. 1. 0.]\n",
      " [0. 0. 0. 1.]]\n",
      "\n",
      "As expected, i == inv(i).\n"
     ]
    }
   ],
   "source": [
    "# Example 20: numpy.linalg.inv (finds the inverse of a matrix)\n",
    "\n",
    "i = np.eye(4)\n",
    "print('\\ni:\\n',i)\n",
    "\n",
    "i_inv = np.linalg.inv(i) # Notice .inv() is a function in the linalg library of NumPy.\n",
    "print('\\ni_inv:\\n',i_inv)\n",
    "print('\\nAs expected, i == inv(i).') "
   ]
  },
  {
   "cell_type": "code",
   "execution_count": 31,
   "metadata": {
    "collapsed": false,
    "jupyter": {
     "outputs_hidden": false
    }
   },
   "outputs": [
    {
     "name": "stdout",
     "output_type": "stream",
     "text": [
      "\n",
      "a:\n",
      " [[2 3]\n",
      " [4 5]]\n",
      "\n",
      "b:\n",
      " [[1 2]\n",
      " [0 2]]\n",
      "\n",
      "Matrix multiplication.\n",
      "a*b:\n",
      " [[ 2 10]\n",
      " [ 4 18]]\n",
      "\n",
      "Order matters in numpy.dot()!\n",
      "b*a:\n",
      " [[10 13]\n",
      " [ 8 10]]\n",
      "Notice a*b != b*a.\n",
      "\n",
      "e: [2 2]\n",
      "\n",
      "numpy.dot() can be used to multiply an array and vector too.\n",
      "a*e: [10 18]\n"
     ]
    }
   ],
   "source": [
    "# Example 21a: numpy.dot() (how to do matrix multiplication in NumPy!)\n",
    "\n",
    "a = np.array([[2,3],[4,5]])\n",
    "print('\\na:\\n',a)\n",
    "b = np.array([[1,2],[0,2]])\n",
    "print('\\nb:\\n',b)\n",
    "\n",
    "print('\\nMatrix multiplication.')\n",
    "c = np.dot(a,b)\n",
    "print('a*b:\\n',c)\n",
    "\n",
    "print('\\nOrder matters in numpy.dot()!')\n",
    "d = np.dot(b,a)\n",
    "print('b*a:\\n',d)\n",
    "print('Notice a*b != b*a.')\n",
    "\n",
    "e = np.array([2,2])\n",
    "print('\\ne:',e)\n",
    "\n",
    "print('\\nnumpy.dot() can be used to multiply an array and vector too.')\n",
    "f = np.dot(a,e)\n",
    "print('a*e:',f)"
   ]
  },
  {
   "cell_type": "markdown",
   "metadata": {},
   "source": [
    "**Instead of using `numpy.dot()` to perform matrix multiplication, NumPy provides an alternative using the `*` operator.** Up until now, we've been exclusively dealing with NumPy `arrays`; but there is another NumPy class called `matrix`. A NumPy `matrix` is just a 2-dimensional NumPy `array`, except it has a few additional features. In particular, we can use the `*` operator to perform multiplication of two NumPy `matrices` (we CANNOT use `*` when multiplying NumPy `arrays`)."
   ]
  },
  {
   "cell_type": "code",
   "execution_count": 32,
   "metadata": {
    "collapsed": false,
    "jupyter": {
     "outputs_hidden": false
    }
   },
   "outputs": [
    {
     "name": "stdout",
     "output_type": "stream",
     "text": [
      "\n",
      "a:\n",
      " [[2 3]\n",
      " [4 5]]\n",
      "\n",
      "b:\n",
      " [[1 2]\n",
      " [0 2]]\n",
      "\n",
      "Matrix multiplication using * operator.\n",
      "a*b:\n",
      " [[ 2 10]\n",
      " [ 4 18]]\n"
     ]
    }
   ],
   "source": [
    "# Example 21b: NumPy matrix multiplication\n",
    "a = np.matrix([[2,3],[4,5]])\n",
    "print('\\na:\\n',a)\n",
    "b = np.matrix([[1,2],[0,2]])\n",
    "print('\\nb:\\n',b)\n",
    "\n",
    "print('\\nMatrix multiplication using * operator.')\n",
    "c = a*b\n",
    "print('a*b:\\n',c)"
   ]
  },
  {
   "cell_type": "code",
   "execution_count": 33,
   "metadata": {
    "collapsed": false,
    "jupyter": {
     "outputs_hidden": false
    }
   },
   "outputs": [
    {
     "name": "stdout",
     "output_type": "stream",
     "text": [
      "\n",
      "a:\n",
      " [[2 3]\n",
      " [4 5]]\n",
      "\n",
      "b:\n",
      " [[1 2]\n",
      " [0 2]]\n",
      "\n",
      "Append b to the \"bottom\" of a:\n",
      " [[2 3]\n",
      " [4 5]\n",
      " [1 2]\n",
      " [0 2]]\n",
      "\n",
      "Append b to the \"right\" of a:\n",
      " [[2 3 1 2]\n",
      " [4 5 0 2]]\n"
     ]
    }
   ],
   "source": [
    "# Example 22: numpy.concatenate() (how to append/attach multiple arrays.)\n",
    "\n",
    "a = np.array([[2,3],[4,5]])\n",
    "print('\\na:\\n',a)\n",
    "b = np.array([[1,2],[0,2]])\n",
    "print('\\nb:\\n',b)\n",
    "\n",
    "c = np.concatenate([a,b], axis=0) # axis controls how to concatenate the arrays. axis=0 attach vertically, axis=1 attach horizontally.\n",
    "print('\\nAppend b to the \"bottom\" of a:\\n',c)\n",
    "\n",
    "d = np.concatenate([a,b], axis=1)\n",
    "print('\\nAppend b to the \"right\" of a:\\n',d)"
   ]
  },
  {
   "cell_type": "code",
   "execution_count": 34,
   "metadata": {
    "collapsed": false,
    "jupyter": {
     "outputs_hidden": false
    }
   },
   "outputs": [
    {
     "name": "stdout",
     "output_type": "stream",
     "text": [
      "\n",
      "a:\n",
      " [[2 3]\n",
      " [4 5]]\n",
      "\n",
      "b:\n",
      " [[1 2]\n",
      " [0 2]]\n",
      "\n",
      "vstack a and b:\n",
      " [[2 3]\n",
      " [4 5]\n",
      " [1 2]\n",
      " [0 2]]\n",
      "Notice this is equivalent to concatenate with axis=0.\n",
      "\n",
      "hstack a and b:\n",
      " [[2 3 1 2]\n",
      " [4 5 0 2]]\n",
      "Notice this is equivalent to concatenate with axis=1.\n"
     ]
    }
   ],
   "source": [
    "# Example 23: numpy.vstack() and numpy.hstack()\n",
    "\n",
    "a = np.array([[2,3],[4,5]])\n",
    "print('\\na:\\n',a)\n",
    "b = np.array([[1,2],[0,2]])\n",
    "print('\\nb:\\n',b)\n",
    "\n",
    "c = np.vstack([a,b])\n",
    "print('\\nvstack a and b:\\n',c)\n",
    "print('Notice this is equivalent to concatenate with axis=0.')\n",
    "\n",
    "d = np.hstack([a,b])\n",
    "print('\\nhstack a and b:\\n',d)\n",
    "print('Notice this is equivalent to concatenate with axis=1.')"
   ]
  },
  {
   "cell_type": "markdown",
   "metadata": {},
   "source": [
    "<a id='misc'></a>\n",
    "# Miscellaneous Functions"
   ]
  },
  {
   "cell_type": "code",
   "execution_count": 35,
   "metadata": {
    "collapsed": false,
    "jupyter": {
     "outputs_hidden": false
    }
   },
   "outputs": [
    {
     "name": "stdout",
     "output_type": "stream",
     "text": [
      "a: 16.5\n",
      "floor of a: 16.0\n",
      "ceiling of a: 17.0\n"
     ]
    }
   ],
   "source": [
    "# Example 24: np.floor(), np.ceil()\n",
    "\n",
    "a = 16.5\n",
    "print('a:',a)\n",
    "print('floor of a:',np.floor(a))\n",
    "print('ceiling of a:',np.ceil(a))"
   ]
  },
  {
   "cell_type": "code",
   "execution_count": 36,
   "metadata": {
    "collapsed": false,
    "jupyter": {
     "outputs_hidden": false
    }
   },
   "outputs": [
    {
     "name": "stdout",
     "output_type": "stream",
     "text": [
      "a: [ 0  1  2  3 16  3  2  1  0]\n",
      "max of a = 16\n",
      "min of a = 0\n",
      "index of max value of a = 4\n",
      "index of min value of a = 0\n"
     ]
    }
   ],
   "source": [
    "# Example 25: np.max(), np.min(), np.argmax(), np.argmin()\n",
    "\n",
    "a = np.array([0,1,2,3,16,3,2,1,0])\n",
    "print('a:',a)\n",
    "print('max of a =',np.max(a))\n",
    "print('min of a =',np.min(a))\n",
    "print('index of max value of a =',np.argmax(a))\n",
    "print('index of min value of a =',np.argmin(a))"
   ]
  },
  {
   "cell_type": "markdown",
   "metadata": {},
   "source": [
    "<a id='qs'></a>\n",
    "# Questions\n",
    "\n",
    "These questions are in no particular order (except for question 0, do that one first). The questions range in difficulty; some are one-liners, others require a lot more thinking. Don't be discouraged if you hit a roadblock. Talk to your neighbors and ask for help from the lab staff.\n",
    "\n",
    "### Question 0\n",
    "**<span style=\"color:red\">In order to test your code, plase run the cell below to load the autograder. There is a cell after each question that you can run in order to check your answer. The autograder is purposefully not very verbose.</span>**"
   ]
  },
  {
   "cell_type": "code",
   "execution_count": 38,
   "metadata": {
    "collapsed": false,
    "jupyter": {
     "outputs_hidden": false
    }
   },
   "outputs": [
    {
     "name": "stdout",
     "output_type": "stream",
     "text": [
      "Autograder loaded!\n",
      "Question 0 Passed!\n"
     ]
    }
   ],
   "source": [
    "%run autograder.py"
   ]
  },
  {
   "cell_type": "markdown",
   "metadata": {},
   "source": [
    "### Question 1\n",
    "**<span style=\"color:red\">Search the NumPy documentation and/or the web for a NumPy function that can solve a system of linear equations of the form `Ax=b`. Once you've found the package and function, insert those names into the `package` and `function` placeholders in the cell below. </span>**"
   ]
  },
  {
   "cell_type": "code",
   "execution_count": 39,
   "metadata": {
    "collapsed": false,
    "jupyter": {
     "outputs_hidden": false
    }
   },
   "outputs": [],
   "source": [
    "# find the missing package and function\n",
    "func = np.linalg.solve\n",
    "\n",
    "# Do not modify the code below\n",
    "def q1(A,b):\n",
    "    return func(A,b)"
   ]
  },
  {
   "cell_type": "code",
   "execution_count": 40,
   "metadata": {
    "collapsed": false,
    "jupyter": {
     "outputs_hidden": false
    }
   },
   "outputs": [
    {
     "name": "stdout",
     "output_type": "stream",
     "text": [
      "Question 1 Passed!\n"
     ]
    }
   ],
   "source": [
    "test_q1(q1)"
   ]
  },
  {
   "cell_type": "markdown",
   "metadata": {},
   "source": [
    "### Question 2\n",
    "**<span style=\"color:red\">Given NumPy array A, return an array that consists of every entry of A that is in an even row and in an odd column. </span>**"
   ]
  },
  {
   "cell_type": "code",
   "execution_count": 41,
   "metadata": {},
   "outputs": [],
   "source": [
    "def q2(A):\n",
    "    \"\"\"\n",
    "    Input:\n",
    "    A - MxN NumPy array\n",
    "    \n",
    "    Output:\n",
    "    Returns an NumPy array that consists of every entry of A that has an even row index and has an odd column index.\n",
    "    \n",
    "    Example:\n",
    "    A = np.array([[ 1  2  3  4  5]\n",
    "                  [ 6  7  8  9 10]\n",
    "                  [11 12 13 14 15]\n",
    "                  [16 17 18 19 20]\n",
    "                  [21 22 23 24 25]])\n",
    "    \n",
    "    Output = np.array([[ 2  4]\n",
    "                       [12 14]\n",
    "                       [22 24]])\n",
    "    \"\"\"\n",
    "    \n",
    "    # YOUR CODE HERE\n",
    "    \n",
    "    return A[::2,1::2]"
   ]
  },
  {
   "cell_type": "code",
   "execution_count": 42,
   "metadata": {
    "collapsed": false,
    "jupyter": {
     "outputs_hidden": false
    }
   },
   "outputs": [
    {
     "name": "stdout",
     "output_type": "stream",
     "text": [
      "Question 2 Passed!\n"
     ]
    }
   ],
   "source": [
    "test_q2(q2)"
   ]
  },
  {
   "cell_type": "markdown",
   "metadata": {},
   "source": [
    "### Question 3\n",
    "**<span style=\"color:red\">Given an MxN NumPy array, first find the indexes of the maximum value in each row of the array, then return the maximum index.</span>**"
   ]
  },
  {
   "cell_type": "code",
   "execution_count": 43,
   "metadata": {},
   "outputs": [],
   "source": [
    "def q3(A):\n",
    "    \"\"\"\n",
    "    Input:\n",
    "    A - MxN NumPy array\n",
    "    \n",
    "    Output:\n",
    "    Return the maximum index of maximum row values of A.\n",
    "    \n",
    "    Example:\n",
    "    A = np.array([[0 1 0 0]\n",
    "                  [1 0 0 0]\n",
    "                  [0 0 0 0]\n",
    "                  [0 0 1 0]])\n",
    "    \n",
    "    Output = 2\n",
    "    \"\"\"\n",
    "    \n",
    "    # YOUR CODE HERE\n",
    "    \n",
    "    return np.max([np.argmax(A[i]) for i in range(np.shape(A)[0])])"
   ]
  },
  {
   "cell_type": "code",
   "execution_count": 44,
   "metadata": {
    "collapsed": false,
    "jupyter": {
     "outputs_hidden": false
    }
   },
   "outputs": [
    {
     "name": "stdout",
     "output_type": "stream",
     "text": [
      "Question 3 Passed!\n"
     ]
    }
   ],
   "source": [
    "test_q3(q3)"
   ]
  },
  {
   "cell_type": "markdown",
   "metadata": {},
   "source": [
    "### Question 4\n",
    "**<span style=\"color:red\">Given two MxN NumPy arrays, copy every-other column of array A to the right side of array B. </span>**"
   ]
  },
  {
   "cell_type": "code",
   "execution_count": 45,
   "metadata": {},
   "outputs": [],
   "source": [
    "def q4(A, B):\n",
    "    \"\"\"\n",
    "    Inputs:\n",
    "    A - MxN NumPy array\n",
    "    B - MxP NumPy array\n",
    "    \n",
    "    Output:\n",
    "    Returns an Mx(P+(N/2)) NumPy array where every-other column of A is added to the right side of B in order, \n",
    "    starting from index 0.\n",
    "    \n",
    "    Example:\n",
    "    A = np.array([[1,0,0,2]\n",
    "                  [0,1,0,2]\n",
    "                  [0,0,1,2]])\n",
    "    B = np.array([[1,2,3]\n",
    "                  [4,5,6]\n",
    "                  [7,8,9]])\n",
    "\n",
    "    Output = np.array([[1,2,3,1,0]\n",
    "                       [4,5,6,0,0]\n",
    "                       [7,8,9,0,1]])\n",
    "    \"\"\"\n",
    "    \n",
    "    # YOUR CODE HERE\n",
    "    \n",
    "    return np.concatenate((B, A[:,::2]), axis=1) # equivalent to: np.hstack((B, A[:,::2]))"
   ]
  },
  {
   "cell_type": "code",
   "execution_count": 46,
   "metadata": {
    "collapsed": false,
    "jupyter": {
     "outputs_hidden": false
    }
   },
   "outputs": [
    {
     "name": "stdout",
     "output_type": "stream",
     "text": [
      "Question 4 Passed!\n"
     ]
    }
   ],
   "source": [
    "test_q4(q4)"
   ]
  },
  {
   "cell_type": "markdown",
   "metadata": {},
   "source": [
    "### Question 5\n",
    "**<span style=\"color:red\">Given vectors u = [1,2,3,...,N] and v = [2017,2018,2019,...,2017+N-1], create a vector that contains the following sequence: [1`*`2017, 2`*`2018, 3`*`2019,...,N`*`(2017+N-1)].</span>**"
   ]
  },
  {
   "cell_type": "code",
   "execution_count": 47,
   "metadata": {},
   "outputs": [],
   "source": [
    "def q5(N):\n",
    "    \"\"\"\n",
    "    Input:\n",
    "    N - number of elements in u and v.\n",
    "    \n",
    "    Output:\n",
    "    Returns the sequence: np.array([1*2017,2*2018,...,N*(2017+N-1)])\n",
    "    \n",
    "    Example:\n",
    "    N = 5\n",
    "    \n",
    "    Output = np.array([ 2017  4036  6057  8080 10105]) \n",
    "    \"\"\"\n",
    "    u = np.array(range(1,N+1)) # YOUR CODE HERE\n",
    "    v = np.array(range(2017,2017+N)) # YOUR CODE HERE\n",
    "    \n",
    "    # YOUR CODE HERE\n",
    "    \n",
    "    return u*v"
   ]
  },
  {
   "cell_type": "code",
   "execution_count": 48,
   "metadata": {
    "collapsed": false,
    "jupyter": {
     "outputs_hidden": false
    }
   },
   "outputs": [
    {
     "name": "stdout",
     "output_type": "stream",
     "text": [
      "Question 5 Passed!\n"
     ]
    }
   ],
   "source": [
    "test_q5(q5)"
   ]
  },
  {
   "cell_type": "markdown",
   "metadata": {},
   "source": [
    "### Question 6\n",
    "**<span style=\"color:red\">Given a NumPy vector v, shift all of the elements in v by n steps to the right; values that \"fall off\" the right end of v get inserted at the beginning of v, thus the length of v is preserved. You can either attempt to implement this on your own, or, (hint hint) try searching for a related NumPy function that does some/all of the work for you... </span>**"
   ]
  },
  {
   "cell_type": "code",
   "execution_count": 49,
   "metadata": {},
   "outputs": [],
   "source": [
    "def q6(v, N=10):\n",
    "    \"\"\"\n",
    "    Input:\n",
    "    v = NumPy vector\n",
    "    N = number of steps to shift v to the right\n",
    "    \n",
    "    Output:\n",
    "    Returns v shifted to the right by N steps.\n",
    "    \n",
    "    Example:\n",
    "    v = np.array([0,1,2,3,4,5])\n",
    "    N = 3\n",
    "    \n",
    "    Output = np.array([3,4,5,0,1,2])\n",
    "    \"\"\"\n",
    "    \n",
    "    # YOUR CODE HERE\n",
    "    \n",
    "    return np.roll(v, N)"
   ]
  },
  {
   "cell_type": "code",
   "execution_count": 50,
   "metadata": {
    "collapsed": false,
    "jupyter": {
     "outputs_hidden": false
    }
   },
   "outputs": [
    {
     "name": "stdout",
     "output_type": "stream",
     "text": [
      "Question 6 Passed!\n"
     ]
    }
   ],
   "source": [
    "test_q6(q6)"
   ]
  },
  {
   "cell_type": "markdown",
   "metadata": {},
   "source": [
    "### Question 7\n",
    "**<span style=\"color:red\">Given an MxM identity matrix, convert this to an (M-N)x(M-N) identity matrix WITHOUT using numpy.eye().</span>**"
   ]
  },
  {
   "cell_type": "code",
   "execution_count": 51,
   "metadata": {
    "collapsed": false,
    "jupyter": {
     "outputs_hidden": false
    }
   },
   "outputs": [],
   "source": [
    "def q7(I=np.eye(10), N=4):\n",
    "    \"\"\"\n",
    "    Input:\n",
    "    I - MxM NumPy array representing the identity matrix\n",
    "    N - number os rows and columns to cut from I\n",
    "    \n",
    "    Output:\n",
    "    Returns an (M-N)x(M-N) NumPy identity array.\n",
    "    \n",
    "    Example:\n",
    "    I = np.eye(10)\n",
    "    N = 8\n",
    "    \n",
    "    Output = np.array([[1,0]\n",
    "                       [0,1]]) \n",
    "    \"\"\"\n",
    "    \n",
    "    # YOUR CODE HERE; REMEMBER, YOU CANNOT USE np.eye()!\n",
    "    \n",
    "    return I[:I.shape[0]-N, :I.shape[1]-N]"
   ]
  },
  {
   "cell_type": "code",
   "execution_count": 52,
   "metadata": {
    "collapsed": false,
    "jupyter": {
     "outputs_hidden": false
    }
   },
   "outputs": [
    {
     "name": "stdout",
     "output_type": "stream",
     "text": [
      "Question 7 Passed!\n"
     ]
    }
   ],
   "source": [
    "test_q7(q7)"
   ]
  },
  {
   "cell_type": "markdown",
   "metadata": {},
   "source": [
    "### Question 8\n",
    "**<span style=\"color:red\">Given a square NxN NumPy array A, return a Python list of the values along the diagonal of A, sorted in descending order.</span>**"
   ]
  },
  {
   "cell_type": "code",
   "execution_count": 53,
   "metadata": {
    "collapsed": false,
    "jupyter": {
     "outputs_hidden": false
    }
   },
   "outputs": [],
   "source": [
    "def q8(A):\n",
    "    \"\"\"\n",
    "    Input:\n",
    "    A - NxN NumPy array\n",
    "    \n",
    "    Output:\n",
    "    Returns a Python list containing the diagonal of A sorted in descending order.\n",
    "    \n",
    "    Example:\n",
    "    A = np.array([[1,2,3]\n",
    "                   [4,5,6]\n",
    "                   [7,8,9]])\n",
    "    \n",
    "    Output = [9,5,1]\n",
    "    \"\"\"\n",
    "    \n",
    "    # YOUR CODE HERE\n",
    "    \n",
    "    lst = sorted([A[i,i] for i in range(A.shape[0])], reverse=True)\n",
    "    \n",
    "    return lst"
   ]
  },
  {
   "cell_type": "code",
   "execution_count": 54,
   "metadata": {
    "collapsed": false,
    "jupyter": {
     "outputs_hidden": false
    }
   },
   "outputs": [
    {
     "name": "stdout",
     "output_type": "stream",
     "text": [
      "Question 8 Passed!\n"
     ]
    }
   ],
   "source": [
    "test_q8(q8)"
   ]
  },
  {
   "cell_type": "markdown",
   "metadata": {},
   "source": [
    "### Question 9\n",
    "**<span style=\"color:red\">Given two differently sized matrices, \"pad\" the matrices with the smaller dimensions with rows/columns of zeros until they are the same size as one another. Add the padding to the bottom (if adding rows) and to the right (if adding columns). Hint: there might be a NumPy function that does something similar/exactly to this, but it's good practice to try this yourself.  </span>**"
   ]
  },
  {
   "cell_type": "code",
   "execution_count": 55,
   "metadata": {
    "collapsed": false,
    "jupyter": {
     "outputs_hidden": false
    }
   },
   "outputs": [],
   "source": [
    "def q9(A,B):\n",
    "    \"\"\"\n",
    "    Input:\n",
    "    A - MxN NumPy array\n",
    "    B - YxZ NumPy array\n",
    "    \n",
    "    Output:\n",
    "    Returns the zero-padded versions of each array such that they are of equivalent dimensions.\n",
    "    Padding is added to the bottom and right.\n",
    "    \n",
    "    Example:\n",
    "    A = np.array([[1,2,3]\n",
    "                   [4,5,6]])\n",
    "    B = np.array([[1,1]\n",
    "                  [1,1]\n",
    "                  [1,1]])\n",
    "    \n",
    "    Output = np.array([[1,2,3]\n",
    "                        [4,5,6]\n",
    "                        [0,0,0]]), \n",
    "              np.array([[1,1,0]\n",
    "                        [1,1,0]\n",
    "                        [1,1,0]])\n",
    "    \"\"\"\n",
    "    \n",
    "    # YOUR CODE HERE\n",
    "    \n",
    "    max_h = max(A.shape[0], B.shape[0])\n",
    "    max_w = max(A.shape[1], B.shape[1])\n",
    "    A_temp = np.zeros((max_h, max_w))\n",
    "    A_temp[:A.shape[0], :A.shape[1]] = A\n",
    "    B_temp = np.zeros((max_h, max_w))\n",
    "    B_temp[:B.shape[0], :B.shape[1]] = B\n",
    "    \n",
    "    A = A_temp\n",
    "    B = B_temp\n",
    "    \n",
    "    return A, B"
   ]
  },
  {
   "cell_type": "code",
   "execution_count": 56,
   "metadata": {
    "collapsed": false,
    "jupyter": {
     "outputs_hidden": false
    }
   },
   "outputs": [
    {
     "name": "stdout",
     "output_type": "stream",
     "text": [
      "Question 9 Passed!\n"
     ]
    }
   ],
   "source": [
    "test_q9(q9)"
   ]
  },
  {
   "cell_type": "markdown",
   "metadata": {},
   "source": [
    "### Question 10\n",
    "**<span style=\"color:red\">Given an MxN matrix, A, and an NxM matrix, B, concatenate (side-by-side) the first p rows of A with the transpose of the last p columns of B.</span>**"
   ]
  },
  {
   "cell_type": "code",
   "execution_count": 57,
   "metadata": {
    "collapsed": false,
    "jupyter": {
     "outputs_hidden": false
    }
   },
   "outputs": [],
   "source": [
    "def q10(A, B, p):\n",
    "    \"\"\"\n",
    "    Input:\n",
    "    A - MxN NumPy array\n",
    "    B - NxM NumPy array\n",
    "    p - number of rows from A to concatenate with number of columns from B\n",
    "    \n",
    "    Output:\n",
    "    Returns the side-by-side concatenation of the first p rows of A with the transpose of the last p columns of B.\n",
    "    \n",
    "    Example:\n",
    "    A = np.array([[1,1,1]\n",
    "                  [1,1,1]\n",
    "                  [1,1,1]\n",
    "                  [1,1,1]])\n",
    "    B = np.array([[1,2,3,4]\n",
    "                  [5,6,7,8]\n",
    "                  [9,10,11,12]])\n",
    "    p = 2\n",
    "    \n",
    "    Output = np.array([[1,1,1,3,7,11]\n",
    "                       [1,1,1,4,8,12]])\n",
    "    \"\"\"\n",
    "    \n",
    "    # YOUR CODE HERE\n",
    "    \n",
    "    return np.concatenate((A[:p], B[:,-p:].T), axis=1)"
   ]
  },
  {
   "cell_type": "code",
   "execution_count": 58,
   "metadata": {
    "collapsed": false,
    "jupyter": {
     "outputs_hidden": false
    }
   },
   "outputs": [
    {
     "name": "stdout",
     "output_type": "stream",
     "text": [
      "Question 10 Passed!\n"
     ]
    }
   ],
   "source": [
    "test_q10(q10)"
   ]
  },
  {
   "cell_type": "code",
   "execution_count": 59,
   "metadata": {
    "collapsed": false,
    "jupyter": {
     "outputs_hidden": false
    }
   },
   "outputs": [
    {
     "name": "stdout",
     "output_type": "stream",
     "text": [
      "Question 1 Passed!\n",
      "Question 2 Passed!\n",
      "Question 3 Passed!\n",
      "Question 4 Passed!\n",
      "Question 5 Passed!\n",
      "Question 6 Passed!\n",
      "Question 7 Passed!\n",
      "Question 8 Passed!\n",
      "Question 9 Passed!\n",
      "Question 10 Passed!\n"
     ]
    }
   ],
   "source": [
    "test_all(q1,q2,q3,q4,q5,q6,q7,q8,q9,q10)"
   ]
  }
 ],
 "metadata": {
  "anaconda-cloud": {},
  "kernelspec": {
   "display_name": "Python 3 (ipykernel)",
   "language": "python",
   "name": "python3"
  },
  "language_info": {
   "codemirror_mode": {
    "name": "ipython",
    "version": 3
   },
   "file_extension": ".py",
   "mimetype": "text/x-python",
   "name": "python",
   "nbconvert_exporter": "python",
   "pygments_lexer": "ipython3",
   "version": "3.12.5"
  }
 },
 "nbformat": 4,
 "nbformat_minor": 4
}
