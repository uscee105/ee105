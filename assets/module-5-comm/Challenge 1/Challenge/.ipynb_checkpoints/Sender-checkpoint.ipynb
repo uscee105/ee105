{
 "cells": [
  {
   "cell_type": "markdown",
   "id": "a04b6686-1c48-4e45-99d9-7da77d08eb0c",
   "metadata": {},
   "source": [
    "# Sender code example\n",
    "In this example, Python code will read from 'messafe_small.txt' and send 0 and 1 in bits to Arduino via the serial port. \n",
    "In the example, neighboring 2 bits are assembled into 1 symbol and get transmitted in one flash.\n",
    "The transmitting frequency (timelapse of sending 1 bit, 50ms by default) is controlled in the Arduino Code."
   ]
  },
  {
   "cell_type": "code",
   "execution_count": null,
   "id": "9e4f4bb9",
   "metadata": {},
   "outputs": [],
   "source": [
    "# Map bits to brightness\n",
    "def modulate_1bit_ASK(bitstream):\n",
    "    modulated = []\n",
    "    mapping = {\n",
    "        '0': 1750,\n",
    "        '1': 2000\n",
    "    }\n",
    "    for i in range(0, len(bitstream)):\n",
    "        chunk = bitstream[i]\n",
    "        freq = mapping.get(chunk, 0)\n",
    "        modulated.append(freq)\n",
    "    return modulated"
   ]
  },
  {
   "cell_type": "code",
   "execution_count": 18,
   "id": "f4ebc37a-e942-48d1-b69a-ffdf2663c0dc",
   "metadata": {},
   "outputs": [
    {
     "name": "stdout",
     "output_type": "stream",
     "text": [
      "Modulated Signal: [1800, 1800, 1800, 1750, 1800, 1850, 1850, 1750, 1800, 1850, 1850, 1800, 1800, 2000, 1750, 2000, 1750, 1850, 1750, 1750, 1800, 1850, 1850, 1800, 1800, 2000, 1750, 2000, 1750, 1850, 1750, 1750, 1800, 1850, 1750, 1800, 1750, 1850, 1750, 1750, 1800, 2000, 1800, 1750, 1800, 1850, 1800, 1800, 1800, 2000, 1750, 2000, 1800, 2000, 1800, 1750, 1750, 1850, 1750, 1750, 1800, 1850, 2000, 1800, 1800, 1850, 1800, 1800, 1800, 2000, 1750, 2000, 1800, 2000, 1750, 2000, 1800, 1850, 1750, 1800, 1800, 1850, 1800, 2000, 1800, 1850, 1800, 1800, 1750, 1850, 1750, 1800]\n",
      "1800,1800,1800,1750,1800,1850,1850,1750,1800,1850,1850,1800,1800,2000,1750,2000,1750,1850,1750,1750,1800,1850,1850,1800,1800,2000,1750,2000,1750,1850,1750,1750,1800,1850,1750,1800,1750,1850,1750,1750,1800,2000,1800,1750,1800,1850,1800,1800,1800,2000,1750,2000,1800,2000,1800,1750,1750,1850,1750,1750,1800,1850,2000,1800,1800,1850,1800,1800,1800,2000,1750,2000,1800,2000,1750,2000,1800,1850,1750,1800,1800,1850,1800,2000,1800,1850,1800,1800,1750,1850,1750,1800,0\n"
     ]
    }
   ],
   "source": [
    "import serial\n",
    "import time\n",
    "\n",
    "port = 'COM5' \n",
    "baudrate = 115200\n",
    "\n",
    "# Send Signal Over Serial\n",
    "\n",
    "def send_signal_to_arduino(signal):\n",
    "    with serial.Serial(port, baudrate) as arduino:\n",
    "        for value in signal:\n",
    "            arduino.write(f\"{value}\\n\".encode())\n",
    "            print(value, end=',')\n",
    "            while True:\n",
    "                ack = arduino.readline().decode().strip()\n",
    "                if ack == \"ACK\":\n",
    "                    break  # Arduino is ready for the next value\n",
    "\n",
    "# Map 2-bit groups to brightness\n",
    "def modulate_2bit_ASK(bitstream):\n",
    "    modulated = []\n",
    "    mapping = {\n",
    "        '00': 1750,\n",
    "        '01': 1800,\n",
    "        '10': 1850,\n",
    "        '11': 2000\n",
    "    }\n",
    "    # Pad if not divisible by 2\n",
    "    if len(bitstream) % 2 != 0:\n",
    "        bitstream += '0'\n",
    "    for i in range(0, len(bitstream), 2):\n",
    "        chunk = bitstream[i:i+2]\n",
    "        freq = mapping.get(chunk, 0)\n",
    "        modulated.append(freq)\n",
    "    return modulated\n",
    "\n",
    "# Read message from file\n",
    "file_path = './message_small.txt'\n",
    "with open(file_path, 'r') as file:\n",
    "    file_content = file.read().strip()\n",
    "\n",
    "# Apply 2-bit modulation\n",
    "modulated_signal = modulate_2bit_ASK(file_content)\n",
    "\n",
    "# Print to verify\n",
    "print(\"Modulated Signal:\", modulated_signal)\n",
    "\n",
    "# Send to Arduino\n",
    "send_signal_to_arduino(modulated_signal)\n",
    "#reset\n",
    "ser = serial.Serial(port, baudrate)\n",
    "\n",
    "ser.write(f\"{0}\\n\".encode())\n",
    "print(0)\n",
    "ser.close()"
   ]
  },
  {
   "cell_type": "code",
   "execution_count": null,
   "id": "de763027-dd32-4d15-89a1-f3e2bb0b6e9a",
   "metadata": {},
   "outputs": [],
   "source": []
  },
  {
   "cell_type": "code",
   "execution_count": null,
   "id": "90cc2c68-6150-4755-89ac-8be3bfc2d939",
   "metadata": {},
   "outputs": [],
   "source": []
  }
 ],
 "metadata": {
  "kernelspec": {
   "display_name": "Python 3 (ipykernel)",
   "language": "python",
   "name": "python3"
  },
  "language_info": {
   "codemirror_mode": {
    "name": "ipython",
    "version": 3
   },
   "file_extension": ".py",
   "mimetype": "text/x-python",
   "name": "python",
   "nbconvert_exporter": "python",
   "pygments_lexer": "ipython3",
   "version": "3.10.9"
  }
 },
 "nbformat": 4,
 "nbformat_minor": 5
}
